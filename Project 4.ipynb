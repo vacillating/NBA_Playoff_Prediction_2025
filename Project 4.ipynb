{
 "cells": [
  {
   "cell_type": "code",
   "execution_count": 91,
   "id": "701ef607-2fde-446b-95ad-c73d6b89b88e",
   "metadata": {},
   "outputs": [
    {
     "name": "stdout",
     "output_type": "stream",
     "text": [
      "Requirement already satisfied: nba_api in /opt/anaconda3/lib/python3.12/site-packages (1.10.0)\n",
      "Requirement already satisfied: numpy>=1.26.0 in /opt/anaconda3/lib/python3.12/site-packages (from nba_api) (1.26.4)\n",
      "Requirement already satisfied: pandas>=2.2.0 in /opt/anaconda3/lib/python3.12/site-packages (from nba_api) (2.2.2)\n",
      "Requirement already satisfied: requests<3.0.0,>=2.32.3 in /opt/anaconda3/lib/python3.12/site-packages (from nba_api) (2.32.3)\n",
      "Requirement already satisfied: python-dateutil>=2.8.2 in /opt/anaconda3/lib/python3.12/site-packages (from pandas>=2.2.0->nba_api) (2.9.0.post0)\n",
      "Requirement already satisfied: pytz>=2020.1 in /opt/anaconda3/lib/python3.12/site-packages (from pandas>=2.2.0->nba_api) (2024.1)\n",
      "Requirement already satisfied: tzdata>=2022.7 in /opt/anaconda3/lib/python3.12/site-packages (from pandas>=2.2.0->nba_api) (2023.3)\n",
      "Requirement already satisfied: charset-normalizer<4,>=2 in /opt/anaconda3/lib/python3.12/site-packages (from requests<3.0.0,>=2.32.3->nba_api) (3.3.2)\n",
      "Requirement already satisfied: idna<4,>=2.5 in /opt/anaconda3/lib/python3.12/site-packages (from requests<3.0.0,>=2.32.3->nba_api) (3.7)\n",
      "Requirement already satisfied: urllib3<3,>=1.21.1 in /opt/anaconda3/lib/python3.12/site-packages (from requests<3.0.0,>=2.32.3->nba_api) (2.2.3)\n",
      "Requirement already satisfied: certifi>=2017.4.17 in /opt/anaconda3/lib/python3.12/site-packages (from requests<3.0.0,>=2.32.3->nba_api) (2025.4.26)\n",
      "Requirement already satisfied: six>=1.5 in /opt/anaconda3/lib/python3.12/site-packages (from python-dateutil>=2.8.2->pandas>=2.2.0->nba_api) (1.16.0)\n",
      "Note: you may need to restart the kernel to use updated packages.\n"
     ]
    }
   ],
   "source": [
    "pip install nba_api"
   ]
  },
  {
   "cell_type": "code",
   "execution_count": 100,
   "id": "9aa48814-e8ca-4317-be5a-9e106ea6a087",
   "metadata": {},
   "outputs": [],
   "source": [
    "from nba_api.stats.endpoints import leaguegamefinder\n",
    "import pandas as pd\n",
    "from sklearn.model_selection import train_test_split\n",
    "from sklearn.ensemble import RandomForestClassifier\n",
    "from sklearn.metrics import accuracy_score, classification_report"
   ]
  },
  {
   "cell_type": "code",
   "execution_count": 102,
   "id": "fa622815-45bf-4960-8b17-10fc9bcda541",
   "metadata": {},
   "outputs": [
    {
     "name": "stdout",
     "output_type": "stream",
     "text": [
      "    GAME_DATE      MATCHUP WL  PTS  PLUS_MINUS\n",
      "0  2025-06-13  IND vs. OKC  L  104        -7.0\n",
      "1  2025-06-11  IND vs. OKC  W  116         9.0\n",
      "2  2025-06-08    IND @ OKC  L  107       -16.0\n",
      "3  2025-06-05    IND @ OKC  W  111         1.0\n",
      "4  2025-05-31  IND vs. NYK  W  125        17.0\n"
     ]
    }
   ],
   "source": [
    "# 步行者队伍ID（NBA官方编号）\n",
    "PACERS_TEAM_ID = '1610612754'\n",
    "\n",
    "# 抓取2024-25赛季步行者所有比赛（含季后赛）\n",
    "gamefinder = leaguegamefinder.LeagueGameFinder(\n",
    "    team_id_nullable=PACERS_TEAM_ID,\n",
    "    season_nullable='2024-25'\n",
    ")\n",
    "\n",
    "# 提取数据框\n",
    "games_df = gamefinder.get_data_frames()[0]\n",
    "\n",
    "# 显示前几行\n",
    "print(games_df[['GAME_DATE', 'MATCHUP', 'WL', 'PTS', 'PLUS_MINUS']].head())\n",
    "\n",
    "# 可选：保存到CSV（你也可以只用作中间缓存，不上传）\n",
    "games_df.to_csv(\"pacers_2024_25_games.csv\", index=False)\n"
   ]
  },
  {
   "cell_type": "code",
   "execution_count": 104,
   "id": "36b9eb61-c096-4208-a5c1-db4d922513ed",
   "metadata": {},
   "outputs": [
    {
     "name": "stdout",
     "output_type": "stream",
     "text": [
      "     GAME_DATE      MATCHUP  IS_HOME  WIN  POINT_DIFF  ROLLING_PTS  \\\n",
      "101 2025-05-31  IND vs. NYK        1    1        31.0        112.6   \n",
      "102 2025-06-05    IND @ OKC        0    1       -14.0        112.0   \n",
      "103 2025-06-08    IND @ OKC        0    0        -4.0        113.4   \n",
      "104 2025-06-11  IND vs. OKC        1    1         9.0        110.6   \n",
      "105 2025-06-13  IND vs. OKC        1    0       -12.0        112.6   \n",
      "\n",
      "     ROLLING_PLUS_MINUS  ROLLING_WIN_RATE  IS_PLAYOFF  \n",
      "101                 1.6               0.6           0  \n",
      "102                 0.8               0.6           0  \n",
      "103                -1.2               0.6           0  \n",
      "104                -1.2               0.6           0  \n",
      "105                 0.8               0.6           0  \n"
     ]
    }
   ],
   "source": [
    "# ✅ Step 1: 日期排序（模型需要时间顺序）\n",
    "games_df['GAME_DATE'] = pd.to_datetime(games_df['GAME_DATE'])\n",
    "games_df.sort_values('GAME_DATE', inplace=True)\n",
    "games_df.reset_index(drop=True, inplace=True)\n",
    "\n",
    "# ✅ Step 2: 特征工程（构造新变量）\n",
    "games_df['IS_HOME'] = games_df['MATCHUP'].apply(lambda x: 1 if 'vs.' in x else 0)\n",
    "games_df['WIN'] = games_df['WL'].apply(lambda x: 1 if x == 'W' else 0)\n",
    "games_df['POINT_DIFF'] = games_df['PTS'] - games_df['PTS'].shift(1)\n",
    "\n",
    "# ✅ Step 3: Rolling 特征（用最近5场的平均来预测）\n",
    "games_df['ROLLING_PTS'] = games_df['PTS'].rolling(window=5, min_periods=1).mean()\n",
    "games_df['ROLLING_PLUS_MINUS'] = games_df['PLUS_MINUS'].rolling(window=5, min_periods=1).mean()\n",
    "games_df['ROLLING_WIN_RATE'] = games_df['WIN'].rolling(window=5, min_periods=1).mean()\n",
    "\n",
    "# ✅ Step 4: 是否是季后赛\n",
    "games_df['IS_PLAYOFF'] = games_df['GAME_ID'].astype(str).apply(lambda x: 1 if x.startswith('424') else 0)\n",
    "\n",
    "\n",
    "# ✅ Step 5: 筛选最终用于建模的变量\n",
    "model_df = games_df[[\n",
    "    'GAME_DATE', 'MATCHUP', 'IS_HOME', 'WIN', 'POINT_DIFF',\n",
    "    'ROLLING_PTS', 'ROLLING_PLUS_MINUS', 'ROLLING_WIN_RATE', 'IS_PLAYOFF'\n",
    "]]\n",
    "\n",
    "# ✅ Step 6: 可选保存\n",
    "model_df.to_csv(\"pacers_model_ready.csv\", index=False)\n",
    "\n",
    "# ✅ Step 7: 查看部分结果\n",
    "print(model_df.tail())\n"
   ]
  },
  {
   "cell_type": "code",
   "execution_count": 106,
   "id": "f05778aa-480e-42fc-9d0c-911d7f60e4f3",
   "metadata": {},
   "outputs": [
    {
     "name": "stdout",
     "output_type": "stream",
     "text": [
      "🎯 Accuracy on Playoff Games: 0.8\n",
      "\n",
      "📊 Classification Report:\n",
      "              precision    recall  f1-score   support\n",
      "\n",
      "           0       0.75      0.50      0.60         6\n",
      "           1       0.81      0.93      0.87        14\n",
      "\n",
      "    accuracy                           0.80        20\n",
      "   macro avg       0.78      0.71      0.73        20\n",
      "weighted avg       0.79      0.80      0.79        20\n",
      "\n"
     ]
    }
   ],
   "source": [
    "# 1. Load dataset\n",
    "df = pd.read_csv(\"pacers_2024_25_games.csv\")\n",
    "\n",
    "# 2. Create IS_PLAYOFF flag\n",
    "df['IS_PLAYOFF'] = df['GAME_ID'].astype(str).apply(lambda x: 1 if x.startswith('424') else 0)\n",
    "\n",
    "# 3. Feature engineering\n",
    "df['GAME_DATE'] = pd.to_datetime(df['GAME_DATE'])\n",
    "df = df.sort_values('GAME_DATE').reset_index(drop=True)\n",
    "df['IS_HOME'] = df['MATCHUP'].apply(lambda x: 1 if 'vs.' in x else 0)\n",
    "df['WIN'] = df['WL'].apply(lambda x: 1 if x == 'W' else 0)\n",
    "df['POINT_DIFF'] = df['PTS'] - df['PTS'].shift(1)\n",
    "df['ROLLING_PTS'] = df['PTS'].rolling(window=5, min_periods=1).mean()\n",
    "df['ROLLING_PLUS_MINUS'] = df['PLUS_MINUS'].rolling(window=5, min_periods=1).mean()\n",
    "df['ROLLING_WIN_RATE'] = df['WIN'].rolling(window=5, min_periods=1).mean()\n",
    "\n",
    "# 4. Advanced feature 1: Opponent winrate\n",
    "df['OPP_TEAM'] = df['MATCHUP'].str.extract(r'@ (.*)|vs\\. (.*)')[0].fillna(df['MATCHUP'].str.extract(r'@ (.*)|vs\\. (.*)')[1])\n",
    "opp_strength = df.groupby('OPP_TEAM')['WIN'].mean().to_dict()\n",
    "df['OPP_AVG_WINRATE'] = df['OPP_TEAM'].map(opp_strength)\n",
    "\n",
    "# 5. Advanced feature 2: Game pace estimation\n",
    "df['PACE_ESTIMATE'] = df['PTS'] + df['PLUS_MINUS'].apply(lambda x: -x)\n",
    "\n",
    "# 6. Select features\n",
    "features = [\n",
    "    'IS_HOME', 'POINT_DIFF', 'ROLLING_PTS',\n",
    "    'ROLLING_PLUS_MINUS', 'ROLLING_WIN_RATE',\n",
    "    'OPP_AVG_WINRATE', 'PACE_ESTIMATE'\n",
    "]\n",
    "X = df[features].fillna(0)\n",
    "y = df['WIN']\n",
    "\n",
    "# 7. Train/test split\n",
    "X_train = X[df['IS_PLAYOFF'] == 0]\n",
    "X_test = X[df['IS_PLAYOFF'] == 1]\n",
    "y_train = y[df['IS_PLAYOFF'] == 0]\n",
    "y_test = y[df['IS_PLAYOFF'] == 1]\n",
    "\n",
    "# 8. Fit model\n",
    "model = RandomForestClassifier(random_state=42)\n",
    "model.fit(X_train, y_train)\n",
    "y_pred = model.predict(X_test)\n",
    "\n",
    "# 9. Evaluate\n",
    "accuracy = accuracy_score(y_test, y_pred)\n",
    "print(\"🎯 Accuracy on Playoff Games:\", accuracy)\n",
    "print(\"\\n📊 Classification Report:\")\n",
    "print(classification_report(y_test, y_pred))\n"
   ]
  },
  {
   "cell_type": "code",
   "execution_count": 108,
   "id": "705402fb-4897-4a9c-9bc0-780d88e66600",
   "metadata": {},
   "outputs": [
    {
     "name": "stdout",
     "output_type": "stream",
     "text": [
      "📈 Logistic Regression Accuracy on Playoff Games: 0.8\n",
      "\n",
      "📊 Classification Report:\n",
      "              precision    recall  f1-score   support\n",
      "\n",
      "           0       0.62      0.83      0.71         6\n",
      "           1       0.92      0.79      0.85        14\n",
      "\n",
      "    accuracy                           0.80        20\n",
      "   macro avg       0.77      0.81      0.78        20\n",
      "weighted avg       0.83      0.80      0.81        20\n",
      "\n",
      "{'C': 1.0, 'class_weight': None, 'dual': False, 'fit_intercept': True, 'intercept_scaling': 1, 'l1_ratio': None, 'max_iter': 1000, 'multi_class': 'deprecated', 'n_jobs': None, 'penalty': 'l2', 'random_state': None, 'solver': 'lbfgs', 'tol': 0.0001, 'verbose': 0, 'warm_start': False}\n"
     ]
    }
   ],
   "source": [
    "from sklearn.linear_model import LogisticRegression\n",
    "from sklearn.metrics import accuracy_score, classification_report\n",
    "\n",
    "# 初始化模型\n",
    "lr_model = LogisticRegression(max_iter=1000)\n",
    "\n",
    "# 拟合训练集（常规赛）\n",
    "lr_model.fit(X_train, y_train)\n",
    "\n",
    "# 预测季后赛\n",
    "lr_pred = lr_model.predict(X_test)\n",
    "\n",
    "# 输出结果\n",
    "lr_accuracy = accuracy_score(y_test, lr_pred)\n",
    "print(\"📈 Logistic Regression Accuracy on Playoff Games:\", lr_accuracy)\n",
    "print(\"\\n📊 Classification Report:\")\n",
    "print(classification_report(y_test, lr_pred))"
   ]
  },
  {
   "cell_type": "code",
   "execution_count": 89,
   "id": "31958d1f-b4e2-437c-8cb2-c6058c1bf3c0",
   "metadata": {},
   "outputs": [
    {
     "name": "stdout",
     "output_type": "stream",
     "text": [
      "{'G5 Random Forest': 'Loss', 'G5 Logistic Regression': 'Loss'}\n"
     ]
    }
   ],
   "source": [
    "import pandas as pd\n",
    "from sklearn.ensemble import RandomForestClassifier\n",
    "from sklearn.linear_model import LogisticRegression\n",
    "\n",
    "# Load processed dataset\n",
    "df = pd.read_csv(\"pacers_model_ready.csv\")\n",
    "\n",
    "# Define features and target\n",
    "features = ['IS_HOME', 'POINT_DIFF', 'ROLLING_PTS', 'ROLLING_PLUS_MINUS', 'ROLLING_WIN_RATE']\n",
    "X = df[features].fillna(0)\n",
    "y = df['WIN']\n",
    "\n",
    "# Train/test split: train on regular season (IS_PLAYOFF == 0)\n",
    "X_train = X[df['IS_PLAYOFF'] == 0]\n",
    "y_train = y[df['IS_PLAYOFF'] == 0]\n",
    "\n",
    "# Initialize models\n",
    "rf_model = RandomForestClassifier(random_state=42)\n",
    "lr_model = LogisticRegression(max_iter=1000)\n",
    "\n",
    "# Fit models\n",
    "rf_model.fit(X_train, y_train)\n",
    "lr_model.fit(X_train, y_train)\n",
    "\n",
    "# Use most recent 5 games to construct G5 and G6 features\n",
    "recent_games = df.tail(5)\n",
    "\n",
    "rolling_pts = recent_games['ROLLING_PTS'].mean()\n",
    "rolling_pm = recent_games['ROLLING_PLUS_MINUS'].mean()\n",
    "rolling_wr = recent_games['ROLLING_WIN_RATE'].mean()\n",
    "point_diff = recent_games.iloc[-1]['POINT_DIFF']\n",
    "\n",
    "# G5: Away game\n",
    "g5_input = pd.DataFrame([{\n",
    "    'IS_HOME': 0,\n",
    "    'POINT_DIFF': point_diff,\n",
    "    'ROLLING_PTS': rolling_pts,\n",
    "    'ROLLING_PLUS_MINUS': rolling_pm,\n",
    "    'ROLLING_WIN_RATE': rolling_wr\n",
    "}])\n",
    "\n",
    "# Fill NaNs\n",
    "g5_input = g5_input.fillna(0)\n",
    "\n",
    "# Predict\n",
    "g5_rf = rf_model.predict(g5_input)[0]\n",
    "g5_lr = lr_model.predict(g5_input)[0]\n",
    "\n",
    "# Output\n",
    "results = {\n",
    "    \"G5 Random Forest\": \"Win\" if g5_rf == 1 else \"Loss\",\n",
    "    \"G5 Logistic Regression\": \"Win\" if g5_lr == 1 else \"Loss\",\n",
    "}\n",
    "\n",
    "print(results)\n"
   ]
  },
  {
   "cell_type": "code",
   "execution_count": null,
   "id": "8808655a-77d5-414a-bf48-203aba7a4581",
   "metadata": {},
   "outputs": [],
   "source": []
  }
 ],
 "metadata": {
  "kernelspec": {
   "display_name": "Python [conda env:base] *",
   "language": "python",
   "name": "conda-base-py"
  },
  "language_info": {
   "codemirror_mode": {
    "name": "ipython",
    "version": 3
   },
   "file_extension": ".py",
   "mimetype": "text/x-python",
   "name": "python",
   "nbconvert_exporter": "python",
   "pygments_lexer": "ipython3",
   "version": "3.12.7"
  }
 },
 "nbformat": 4,
 "nbformat_minor": 5
}
